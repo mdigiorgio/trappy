{
 "cells": [
  {
   "cell_type": "markdown",
   "metadata": {
    "collapsed": true
   },
   "source": [
    "# Tasks Latencies"
   ]
  },
  {
   "cell_type": "code",
   "execution_count": null,
   "metadata": {
    "collapsed": true,
    "run_control": {
     "marked": true
    }
   },
   "outputs": [],
   "source": [
    "%load_ext autoreload\n",
    "%autoreload 2"
   ]
  },
  {
   "cell_type": "code",
   "execution_count": null,
   "metadata": {
    "collapsed": false,
    "run_control": {
     "marked": true
    }
   },
   "outputs": [],
   "source": [
    "import logging\n",
    "reload(logging)\n",
    "log_fmt = '%(asctime)-9s %(levelname)-8s: %(message)s'\n",
    "logging.basicConfig(format=log_fmt)\n",
    "\n",
    "# Change to info once the notebook runs ok\n",
    "logging.getLogger().setLevel(logging.DEBUG)"
   ]
  },
  {
   "cell_type": "code",
   "execution_count": null,
   "metadata": {
    "collapsed": false,
    "run_control": {
     "marked": true
    }
   },
   "outputs": [],
   "source": [
    "%matplotlib inline\n",
    "\n",
    "import os\n",
    "\n",
    "# Support to access the remote target\n",
    "from env import TestEnv\n",
    "\n",
    "# Suport for FTrace events parsing and visualization\n",
    "import trappy\n",
    "\n",
    "import pandas as pd"
   ]
  },
  {
   "cell_type": "code",
   "execution_count": null,
   "metadata": {
    "collapsed": true
   },
   "outputs": [],
   "source": [
    "rendert_df = pd.read_csv('./data.csv')\n",
    "sf_df = pd.read_csv('./data_sf.csv')\n",
    "\n",
    "rendert_df.set_index('Time', inplace=True)\n",
    "sf_df.set_index('Time', inplace=True)"
   ]
  },
  {
   "cell_type": "code",
   "execution_count": null,
   "metadata": {
    "collapsed": false
   },
   "outputs": [],
   "source": [
    "def get_events(task_df, task_name):\n",
    "    wakeup = task_df[(task_df.curr_state == 'W') & (task_df.next_state == 'A')]\n",
    "    running = task_df[(task_df.curr_state == 'A')]\n",
    "    preempt = task_df[(task_df.curr_state.isin(['R', 'R+'])) & (task_df.next_state == 'A')]\n",
    "    suspend = task_df[(task_df.curr_state == 'D') & (task_df.next_state == 'W')]\n",
    "    \n",
    "    t_end = wakeup['t_start'] + wakeup['t_delta']\n",
    "    w_event = [[start, end, task_name] for start, end in t_end.iteritems()]\n",
    "    t_end = running['t_start'] + running['t_delta']\n",
    "    r_event = [[start, end, task_name] for start, end in t_end.iteritems()]\n",
    "    t_end = preempt['t_start'] + preempt['t_delta']\n",
    "    p_event = [[start, end, task_name] for start, end in t_end.iteritems()]\n",
    "    t_end = suspend['t_start'] + suspend['t_delta']\n",
    "    u_event = [[start, end, task_name] for start, end in t_end.iteritems()]\n",
    "    \n",
    "    return r_event, w_event, p_event, u_event"
   ]
  },
  {
   "cell_type": "code",
   "execution_count": null,
   "metadata": {
    "collapsed": true
   },
   "outputs": [],
   "source": [
    "rt_events = get_events(rendert_df, \"RenderThread\")\n",
    "sf_events = get_events(sf_df, \"SurfaceFlinger\")"
   ]
  },
  {
   "cell_type": "code",
   "execution_count": null,
   "metadata": {
    "collapsed": false
   },
   "outputs": [],
   "source": [
    "EVENTS = {}\n",
    "EVENTS[\"Running\"] = rt_events[0] + sf_events[0]\n",
    "EVENTS[\"WakeupLat\"] = rt_events[1] + sf_events[1]\n",
    "EVENTS[\"PreemptLat\"] = rt_events[2] + sf_events[2]\n",
    "EVENTS[\"SuspendedUnint\"] = rt_events[3] + sf_events[3]\n",
    "\n",
    "x_max = max(sf_df.index.max(), rendert_df.index.max())\n",
    "\n",
    "trappy.EventPlot(EVENTS,\n",
    "                 keys=EVENTS.keys,\n",
    "                 lanes=[\"RenderThread\", \"SurfaceFlinger\"],\n",
    "                 domain=[0,x_max]\n",
    "                ).view()"
   ]
  },
  {
   "cell_type": "code",
   "execution_count": null,
   "metadata": {
    "collapsed": false
   },
   "outputs": [],
   "source": [
    "EVENTS = {}\n",
    "EVENTS[\"Running\"] = rt_events[0] + sf_events[0]\n",
    "EVENTS[\"WakeupLat\"] = rt_events[1] + sf_events[1]\n",
    "EVENTS[\"PreemptLat\"] = rt_events[2] + sf_events[2]\n",
    "EVENTS[\"SuspendedUnint\"] = rt_events[3] + sf_events[3]\n",
    "\n",
    "x_max = max(sf_df.index.max(), rendert_df.index.max())\n",
    "\n",
    "trappy.EventPlot(EVENTS,\n",
    "                 keys=EVENTS.keys,\n",
    "                 lanes=[\"RenderThread\", \"SurfaceFlinger\"],\n",
    "                 domain=[0,x_max],\n",
    "                 color_map={\"Running\" : \"green\", \"WakeupLat\" : \"purple\", \"PreemptLat\" : \"orange\", \"SuspendedUnint\" : \"red\"}\n",
    "                ).view()"
   ]
  },
  {
   "cell_type": "code",
   "execution_count": null,
   "metadata": {
    "collapsed": true
   },
   "outputs": [],
   "source": []
  }
 ],
 "metadata": {
  "kernelspec": {
   "display_name": "Python 2",
   "language": "python",
   "name": "python2"
  },
  "language_info": {
   "codemirror_mode": {
    "name": "ipython",
    "version": 2
   },
   "file_extension": ".py",
   "mimetype": "text/x-python",
   "name": "python",
   "nbconvert_exporter": "python",
   "pygments_lexer": "ipython2",
   "version": "2.7.6"
  },
  "toc": {
   "toc_cell": false,
   "toc_number_sections": true,
   "toc_threshold": 6,
   "toc_window_display": false
  }
 },
 "nbformat": 4,
 "nbformat_minor": 0
}
